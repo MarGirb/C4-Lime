{
  "nbformat": 4,
  "nbformat_minor": 0,
  "metadata": {
    "colab": {
      "provenance": [],
      "authorship_tag": "ABX9TyNc3gqsZvBXg6eeXAYz/cTA",
      "include_colab_link": true
    },
    "kernelspec": {
      "name": "python3",
      "display_name": "Python 3"
    },
    "language_info": {
      "name": "python"
    }
  },
  "cells": [
    {
      "cell_type": "markdown",
      "metadata": {
        "id": "view-in-github",
        "colab_type": "text"
      },
      "source": [
        "<a href=\"https://colab.research.google.com/github/MarGirb/C4-Lime/blob/main/SAB_2024_test.ipynb\" target=\"_parent\"><img src=\"https://colab.research.google.com/assets/colab-badge.svg\" alt=\"Open In Colab\"/></a>"
      ]
    },
    {
      "cell_type": "code",
      "execution_count": null,
      "metadata": {
        "id": "ZM1s6WloACP_"
      },
      "outputs": [],
      "source": []
    },
    {
      "cell_type": "code",
      "source": [
        "temp_today = int(input(\"Сколько пирожных?\"))\n",
        "temp_yesterday = int(input(\"Сколько гостей?\"))\n",
        "rest = temp_today / temp_yesterday\n",
        "if rest ==int:\n",
        "  print(\"ура\")\n",
        "elif rest == float:\n",
        "  print(\"наутро останется\")"
      ],
      "metadata": {
        "colab": {
          "base_uri": "https://localhost:8080/"
        },
        "id": "5X7pQE2kAnS3",
        "outputId": "ba601f04-bea0-4e4f-9867-066fa7881f52"
      },
      "execution_count": null,
      "outputs": [
        {
          "name": "stdout",
          "output_type": "stream",
          "text": [
            "Сколько пирожных?78\n",
            "Сколько гостей?2\n"
          ]
        }
      ]
    },
    {
      "cell_type": "code",
      "source": [
        "users = [\"Bob\", \"Tom\", \"Dany\"]\n",
        "count = 0\n",
        "while count < 100:\n",
        "    user = input(\"Введите имя пользователя: \")\n",
        "    users.append(user)\n",
        "for user in users:\n",
        "  print(\"Привет,\", user)\n",
        "сount +=1\n"
      ],
      "metadata": {
        "colab": {
          "base_uri": "https://localhost:8080/"
        },
        "id": "LN9Z7CZatraN",
        "outputId": "0a4d8fb0-621f-4b47-daab-68bdbf306b41"
      },
      "execution_count": null,
      "outputs": [
        {
          "name": "stdout",
          "output_type": "stream",
          "text": [
            "Введите имя пользователя: легав\n",
            "Введите имя пользователя: нгпл\n",
            "Введите имя пользователя: ншп\n"
          ]
        }
      ]
    }
  ]
}